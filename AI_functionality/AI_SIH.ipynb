{
  "nbformat": 4,
  "nbformat_minor": 0,
  "metadata": {
    "colab": {
      "provenance": []
    },
    "kernelspec": {
      "name": "python3",
      "display_name": "Python 3"
    },
    "language_info": {
      "name": "python"
    }
  },
  "cells": [
    {
      "cell_type": "code",
      "source": [
        "import pandas as pd\n",
        "from sklearn.feature_extraction.text import TfidfVectorizer\n",
        "from sklearn.metrics.pairwise import cosine_similarity\n",
        "import pickle\n",
        "\n",
        "# Load the dataset\n",
        "freelancers_data = {\n",
        "    'freelancer_id': [1, 2, 3, 4, 5],\n",
        "    'name': ['Alice Johnson', 'Bob Smith', 'Charlie Lee', 'Diana Davis', 'Evan Brown'],\n",
        "    'skills': [\n",
        "        'Python|Machine Learning|Data Science',\n",
        "        'Web Development|HTML|CSS|JavaScript',\n",
        "        'Graphic Design|Adobe Photoshop|Illustrator',\n",
        "        'Python|Data Analysis|Pandas',\n",
        "        'Content Writing|SEO|Copywriting'\n",
        "    ],\n",
        "    'experience': [\n",
        "        '3 years',\n",
        "        '2 years',\n",
        "        '5 years',\n",
        "        '4 years',\n",
        "        '3 years'\n",
        "    ]\n",
        "}\n",
        "\n",
        "jobs_data = {\n",
        "    'job_id': [101, 102, 103, 104, 105],\n",
        "    'required_skills': [\n",
        "        'Python|Machine Learning',\n",
        "        'Web Development|JavaScript',\n",
        "        'Graphic Design|Illustrator',\n",
        "        'Data Analysis|Python',\n",
        "        'Content Writing|SEO'\n",
        "    ],\n",
        "    'job_description': [\n",
        "        'Looking for a Python developer with expertise in machine learning to work on data-driven projects.',\n",
        "        'Hiring a web developer with experience in JavaScript for a dynamic web application.',\n",
        "        'Seeking a graphic designer skilled in Illustrator for a logo and branding project.',\n",
        "        'In need of a data analyst proficient in Python and data manipulation for reporting tasks.',\n",
        "        'Looking for a content writer with strong SEO skills to improve blog visibility.'\n",
        "    ]\n",
        "}\n",
        "\n",
        "freelancers_df = pd.DataFrame(freelancers_data)\n",
        "jobs_df = pd.DataFrame(jobs_data)\n",
        "\n",
        "# Combine skills and experience for freelancers into a single text field\n",
        "freelancers_df['profile'] = freelancers_df['skills'] + ' ' + freelancers_df['experience']\n",
        "\n",
        "# Use TF-IDF Vectorizer to vectorize the freelancer profiles and job required skills\n",
        "tfidf_vectorizer = TfidfVectorizer()\n",
        "\n",
        "# Fit the vectorizer on freelancers' profiles and job required skills\n",
        "freelancer_profiles_tfidf = tfidf_vectorizer.fit_transform(freelancers_df['profile'])\n",
        "job_requirements_tfidf = tfidf_vectorizer.transform(jobs_df['required_skills'])\n",
        "\n",
        "# Calculate the cosine similarity between freelancers and jobs\n",
        "similarity_matrix = cosine_similarity(freelancer_profiles_tfidf, job_requirements_tfidf)\n",
        "\n",
        "# Save the model and data\n",
        "with open('/content/similarity_matrix.pkl', 'wb') as f:\n",
        "    pickle.dump(similarity_matrix, f)\n",
        "\n",
        "with open('/content/tfidf_vectorizer.pkl', 'wb') as f:\n",
        "    pickle.dump(tfidf_vectorizer, f)\n",
        "\n",
        "# Save the datasets\n",
        "freelancers_df.to_csv('/content/freelancers.csv', index=False)\n",
        "jobs_df.to_csv('/content/jobs.csv', index=False)\n",
        "\n"
      ],
      "metadata": {
        "id": "Ii8rt-VxcDkV"
      },
      "execution_count": null,
      "outputs": []
    },
    {
      "cell_type": "code",
      "source": [
        "from google.colab import files\n",
        "files.download('similarity_matrix.pkl')\n"
      ],
      "metadata": {
        "colab": {
          "base_uri": "https://localhost:8080/",
          "height": 17
        },
        "id": "ISs4z2BkcIex",
        "outputId": "30d512dc-1e5d-4e2e-dd7f-96f6a56f8588"
      },
      "execution_count": null,
      "outputs": [
        {
          "output_type": "display_data",
          "data": {
            "text/plain": [
              "<IPython.core.display.Javascript object>"
            ],
            "application/javascript": [
              "\n",
              "    async function download(id, filename, size) {\n",
              "      if (!google.colab.kernel.accessAllowed) {\n",
              "        return;\n",
              "      }\n",
              "      const div = document.createElement('div');\n",
              "      const label = document.createElement('label');\n",
              "      label.textContent = `Downloading \"${filename}\": `;\n",
              "      div.appendChild(label);\n",
              "      const progress = document.createElement('progress');\n",
              "      progress.max = size;\n",
              "      div.appendChild(progress);\n",
              "      document.body.appendChild(div);\n",
              "\n",
              "      const buffers = [];\n",
              "      let downloaded = 0;\n",
              "\n",
              "      const channel = await google.colab.kernel.comms.open(id);\n",
              "      // Send a message to notify the kernel that we're ready.\n",
              "      channel.send({})\n",
              "\n",
              "      for await (const message of channel.messages) {\n",
              "        // Send a message to notify the kernel that we're ready.\n",
              "        channel.send({})\n",
              "        if (message.buffers) {\n",
              "          for (const buffer of message.buffers) {\n",
              "            buffers.push(buffer);\n",
              "            downloaded += buffer.byteLength;\n",
              "            progress.value = downloaded;\n",
              "          }\n",
              "        }\n",
              "      }\n",
              "      const blob = new Blob(buffers, {type: 'application/binary'});\n",
              "      const a = document.createElement('a');\n",
              "      a.href = window.URL.createObjectURL(blob);\n",
              "      a.download = filename;\n",
              "      div.appendChild(a);\n",
              "      a.click();\n",
              "      div.remove();\n",
              "    }\n",
              "  "
            ]
          },
          "metadata": {}
        },
        {
          "output_type": "display_data",
          "data": {
            "text/plain": [
              "<IPython.core.display.Javascript object>"
            ],
            "application/javascript": [
              "download(\"download_a7ff5a88-9dd3-4d24-8d2c-5fd4885bf35d\", \"similarity_matrix.pkl\", 349)"
            ]
          },
          "metadata": {}
        }
      ]
    },
    {
      "cell_type": "code",
      "source": [
        "# Import required libraries\n",
        "from sklearn.feature_extraction.text import TfidfVectorizer\n",
        "from sklearn.metrics.pairwise import cosine_similarity\n",
        "import pandas as pd\n",
        "import joblib\n",
        "\n",
        "# Dummy dataset (Replace with actual dataset)\n",
        "freelancers = [\n",
        "    'Python Machine Learning Data Science',\n",
        "    'Web Development HTML CSS JavaScript',\n",
        "    'Graphic Design Adobe Photoshop Illustrator',\n",
        "    'Python Data Analysis Pandas',\n",
        "    'Content Writing SEO Copywriting'\n",
        "]\n",
        "\n",
        "jobs = [\n",
        "    'Python Machine Learning',\n",
        "    'Web Development JavaScript',\n",
        "    'Graphic Design Illustrator',\n",
        "    'Data Analysis Python',\n",
        "    'Content Writing SEO'\n",
        "]\n",
        "\n",
        "# Train the model (TF-IDF + Cosine Similarity)\n",
        "vectorizer = TfidfVectorizer()\n",
        "freelancer_vectors = vectorizer.fit_transform(freelancers)\n",
        "job_vectors = vectorizer.transform(jobs)\n",
        "\n",
        "# Save the trained model for later use\n",
        "joblib.dump(vectorizer, 'vectorizer.pkl')\n",
        "joblib.dump(freelancer_vectors, 'freelancer_vectors.pkl')\n",
        "joblib.dump(job_vectors, 'job_vectors.pkl')\n"
      ],
      "metadata": {
        "colab": {
          "base_uri": "https://localhost:8080/"
        },
        "id": "GIyxJQ7rOs3L",
        "outputId": "132ca1ac-4496-4a5a-d8b7-85689a77b397"
      },
      "execution_count": 3,
      "outputs": [
        {
          "output_type": "execute_result",
          "data": {
            "text/plain": [
              "['job_vectors.pkl']"
            ]
          },
          "metadata": {},
          "execution_count": 3
        }
      ]
    },
    {
      "cell_type": "code",
      "source": [
        "from google.colab import files\n",
        "\n",
        "# Download the model files\n",
        "files.download('vectorizer.pkl')\n",
        "files.download('freelancer_vectors.pkl')\n",
        "files.download('job_vectors.pkl')\n"
      ],
      "metadata": {
        "colab": {
          "base_uri": "https://localhost:8080/",
          "height": 17
        },
        "id": "AnnqWleXOxD-",
        "outputId": "99327c5a-3ad7-42e3-eecf-c9fb14b55129"
      },
      "execution_count": 4,
      "outputs": [
        {
          "output_type": "display_data",
          "data": {
            "text/plain": [
              "<IPython.core.display.Javascript object>"
            ],
            "application/javascript": [
              "\n",
              "    async function download(id, filename, size) {\n",
              "      if (!google.colab.kernel.accessAllowed) {\n",
              "        return;\n",
              "      }\n",
              "      const div = document.createElement('div');\n",
              "      const label = document.createElement('label');\n",
              "      label.textContent = `Downloading \"${filename}\": `;\n",
              "      div.appendChild(label);\n",
              "      const progress = document.createElement('progress');\n",
              "      progress.max = size;\n",
              "      div.appendChild(progress);\n",
              "      document.body.appendChild(div);\n",
              "\n",
              "      const buffers = [];\n",
              "      let downloaded = 0;\n",
              "\n",
              "      const channel = await google.colab.kernel.comms.open(id);\n",
              "      // Send a message to notify the kernel that we're ready.\n",
              "      channel.send({})\n",
              "\n",
              "      for await (const message of channel.messages) {\n",
              "        // Send a message to notify the kernel that we're ready.\n",
              "        channel.send({})\n",
              "        if (message.buffers) {\n",
              "          for (const buffer of message.buffers) {\n",
              "            buffers.push(buffer);\n",
              "            downloaded += buffer.byteLength;\n",
              "            progress.value = downloaded;\n",
              "          }\n",
              "        }\n",
              "      }\n",
              "      const blob = new Blob(buffers, {type: 'application/binary'});\n",
              "      const a = document.createElement('a');\n",
              "      a.href = window.URL.createObjectURL(blob);\n",
              "      a.download = filename;\n",
              "      div.appendChild(a);\n",
              "      a.click();\n",
              "      div.remove();\n",
              "    }\n",
              "  "
            ]
          },
          "metadata": {}
        },
        {
          "output_type": "display_data",
          "data": {
            "text/plain": [
              "<IPython.core.display.Javascript object>"
            ],
            "application/javascript": [
              "download(\"download_fc4cc6ac-0d3c-427b-ad3f-354100f560c1\", \"vectorizer.pkl\", 1711)"
            ]
          },
          "metadata": {}
        },
        {
          "output_type": "display_data",
          "data": {
            "text/plain": [
              "<IPython.core.display.Javascript object>"
            ],
            "application/javascript": [
              "\n",
              "    async function download(id, filename, size) {\n",
              "      if (!google.colab.kernel.accessAllowed) {\n",
              "        return;\n",
              "      }\n",
              "      const div = document.createElement('div');\n",
              "      const label = document.createElement('label');\n",
              "      label.textContent = `Downloading \"${filename}\": `;\n",
              "      div.appendChild(label);\n",
              "      const progress = document.createElement('progress');\n",
              "      progress.max = size;\n",
              "      div.appendChild(progress);\n",
              "      document.body.appendChild(div);\n",
              "\n",
              "      const buffers = [];\n",
              "      let downloaded = 0;\n",
              "\n",
              "      const channel = await google.colab.kernel.comms.open(id);\n",
              "      // Send a message to notify the kernel that we're ready.\n",
              "      channel.send({})\n",
              "\n",
              "      for await (const message of channel.messages) {\n",
              "        // Send a message to notify the kernel that we're ready.\n",
              "        channel.send({})\n",
              "        if (message.buffers) {\n",
              "          for (const buffer of message.buffers) {\n",
              "            buffers.push(buffer);\n",
              "            downloaded += buffer.byteLength;\n",
              "            progress.value = downloaded;\n",
              "          }\n",
              "        }\n",
              "      }\n",
              "      const blob = new Blob(buffers, {type: 'application/binary'});\n",
              "      const a = document.createElement('a');\n",
              "      a.href = window.URL.createObjectURL(blob);\n",
              "      a.download = filename;\n",
              "      div.appendChild(a);\n",
              "      a.click();\n",
              "      div.remove();\n",
              "    }\n",
              "  "
            ]
          },
          "metadata": {}
        },
        {
          "output_type": "display_data",
          "data": {
            "text/plain": [
              "<IPython.core.display.Javascript object>"
            ],
            "application/javascript": [
              "download(\"download_6ceb8a83-c18a-4134-96fc-0cf853b1e1d0\", \"freelancer_vectors.pkl\", 763)"
            ]
          },
          "metadata": {}
        },
        {
          "output_type": "display_data",
          "data": {
            "text/plain": [
              "<IPython.core.display.Javascript object>"
            ],
            "application/javascript": [
              "\n",
              "    async function download(id, filename, size) {\n",
              "      if (!google.colab.kernel.accessAllowed) {\n",
              "        return;\n",
              "      }\n",
              "      const div = document.createElement('div');\n",
              "      const label = document.createElement('label');\n",
              "      label.textContent = `Downloading \"${filename}\": `;\n",
              "      div.appendChild(label);\n",
              "      const progress = document.createElement('progress');\n",
              "      progress.max = size;\n",
              "      div.appendChild(progress);\n",
              "      document.body.appendChild(div);\n",
              "\n",
              "      const buffers = [];\n",
              "      let downloaded = 0;\n",
              "\n",
              "      const channel = await google.colab.kernel.comms.open(id);\n",
              "      // Send a message to notify the kernel that we're ready.\n",
              "      channel.send({})\n",
              "\n",
              "      for await (const message of channel.messages) {\n",
              "        // Send a message to notify the kernel that we're ready.\n",
              "        channel.send({})\n",
              "        if (message.buffers) {\n",
              "          for (const buffer of message.buffers) {\n",
              "            buffers.push(buffer);\n",
              "            downloaded += buffer.byteLength;\n",
              "            progress.value = downloaded;\n",
              "          }\n",
              "        }\n",
              "      }\n",
              "      const blob = new Blob(buffers, {type: 'application/binary'});\n",
              "      const a = document.createElement('a');\n",
              "      a.href = window.URL.createObjectURL(blob);\n",
              "      a.download = filename;\n",
              "      div.appendChild(a);\n",
              "      a.click();\n",
              "      div.remove();\n",
              "    }\n",
              "  "
            ]
          },
          "metadata": {}
        },
        {
          "output_type": "display_data",
          "data": {
            "text/plain": [
              "<IPython.core.display.Javascript object>"
            ],
            "application/javascript": [
              "download(\"download_e5f38b2e-2e03-4279-b8a6-d6374a480249\", \"job_vectors.pkl\", 667)"
            ]
          },
          "metadata": {}
        }
      ]
    }
  ]
}